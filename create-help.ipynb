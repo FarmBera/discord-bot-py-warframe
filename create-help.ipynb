{
 "cells": [
  {
   "cell_type": "code",
   "execution_count": null,
   "id": "c71b417e",
   "metadata": {},
   "outputs": [],
   "source": [
    "from module.yaml_open import yaml_open\n",
    "\n",
    "\n",
    "cmds = yaml_open(\"locale/en\")\n",
    "krms = yaml_open(\"locale/ko\")\n",
    "\n",
    "e = cmds[\"cmd\"]\n",
    "k = krms[\"cmd\"]\n",
    "for key in e.keys():\n",
    "    t = f\"- `{e[key]['cmd']}`: {k[key]['desc']}\"\n",
    "    print(t)"
   ]
  }
 ],
 "metadata": {
  "kernelspec": {
   "display_name": "Python 3",
   "language": "python",
   "name": "python3"
  },
  "language_info": {
   "codemirror_mode": {
    "name": "ipython",
    "version": 3
   },
   "file_extension": ".py",
   "mimetype": "text/x-python",
   "name": "python",
   "nbconvert_exporter": "python",
   "pygments_lexer": "ipython3",
   "version": "3.13.3"
  }
 },
 "nbformat": 4,
 "nbformat_minor": 5
}
